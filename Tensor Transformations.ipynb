{
 "cells": [
  {
   "cell_type": "code",
   "execution_count": 3,
   "metadata": {
    "collapsed": true
   },
   "outputs": [],
   "source": [
    "import tensorflow as tf\n",
    "import numpy as np\n",
    "\n",
    "data = np.arange(12)\n",
    "\n",
    "sess = tf.Session()"
   ]
  },
  {
   "cell_type": "code",
   "execution_count": 4,
   "metadata": {
    "collapsed": false
   },
   "outputs": [
    {
     "data": {
      "text/plain": [
       "array([[  0.00000000e+00,   0.00000000e+00],\n",
       "       [  1.40129846e-45,   0.00000000e+00],\n",
       "       [  2.80259693e-45,   0.00000000e+00],\n",
       "       [  4.20389539e-45,   0.00000000e+00],\n",
       "       [  5.60519386e-45,   0.00000000e+00],\n",
       "       [  7.00649232e-45,   0.00000000e+00],\n",
       "       [  8.40779079e-45,   0.00000000e+00],\n",
       "       [  9.80908925e-45,   0.00000000e+00],\n",
       "       [  1.12103877e-44,   0.00000000e+00],\n",
       "       [  1.26116862e-44,   0.00000000e+00],\n",
       "       [  1.40129846e-44,   0.00000000e+00],\n",
       "       [  1.54142831e-44,   0.00000000e+00]], dtype=float32)"
      ]
     },
     "execution_count": 4,
     "metadata": {},
     "output_type": "execute_result"
    }
   ],
   "source": [
    "rs = tf.bitcast(data, tf.float32)\n",
    "sess.run(rs)"
   ]
  },
  {
   "cell_type": "code",
   "execution_count": 5,
   "metadata": {
    "collapsed": false
   },
   "outputs": [
    {
     "data": {
      "text/plain": [
       "array([0, 2], dtype=int32)"
      ]
     },
     "execution_count": 5,
     "metadata": {},
     "output_type": "execute_result"
    }
   ],
   "source": [
    "# 1-D example\n",
    "tensor = [0, 1, 2, 3]\n",
    "mask = [True, False, True, False]\n",
    "rs = tf.boolean_mask(tensor, mask) \n",
    "sess.run(rs)"
   ]
  },
  {
   "cell_type": "code",
   "execution_count": 6,
   "metadata": {
    "collapsed": false
   },
   "outputs": [
    {
     "data": {
      "text/plain": [
       "array([[1, 2],\n",
       "       [5, 6]], dtype=int32)"
      ]
     },
     "execution_count": 6,
     "metadata": {},
     "output_type": "execute_result"
    }
   ],
   "source": [
    "# 2-D example\n",
    "tensor = [[1, 2], [3, 4], [5, 6]]\n",
    "mask = [True, False, True]\n",
    "rs = tf.boolean_mask(tensor, mask) \n",
    "sess.run(rs)"
   ]
  },
  {
   "cell_type": "code",
   "execution_count": 7,
   "metadata": {
    "collapsed": false
   },
   "outputs": [
    {
     "data": {
      "text/plain": [
       "array([1, 2], dtype=int32)"
      ]
     },
     "execution_count": 7,
     "metadata": {},
     "output_type": "execute_result"
    }
   ],
   "source": [
    "# https://www.tensorflow.org/versions/r0.8/api_docs/python/array_ops.html#cast\n",
    "tensor = [1.8, 2.2]\n",
    "rs = tf.cast(tensor, tf.int32)\n",
    "sess.run(rs)"
   ]
  },
  {
   "cell_type": "code",
   "execution_count": 8,
   "metadata": {
    "collapsed": false
   },
   "outputs": [
    {
     "data": {
      "text/plain": [
       "array([[ 1,  2,  3],\n",
       "       [ 4,  5,  6],\n",
       "       [ 7,  8,  9],\n",
       "       [10, 11, 12]], dtype=int32)"
      ]
     },
     "execution_count": 8,
     "metadata": {},
     "output_type": "execute_result"
    }
   ],
   "source": [
    "# https://www.tensorflow.org/versions/r0.8/api_docs/python/array_ops.html#concat\n",
    "# tensor t3 with shape [2, 3]\n",
    "# tensor t4 with shape [2, 3]\n",
    "# tf.shape(tf.concat(0, [t3, t4])) ==> [4, 3]\n",
    "# tf.shape(tf.concat(1, [t3, t4])) ==> [2, 6]\n",
    "\n",
    "t1 = [[1, 2, 3], [4, 5, 6]]\n",
    "t2 = [[7, 8, 9], [10, 11, 12]]\n",
    "rs = tf.concat(0, [t1, t2]) \n",
    "sess.run(rs)"
   ]
  },
  {
   "cell_type": "code",
   "execution_count": 9,
   "metadata": {
    "collapsed": false
   },
   "outputs": [
    {
     "data": {
      "text/plain": [
       "array([[ 1,  2,  3,  7,  8,  9],\n",
       "       [ 4,  5,  6, 10, 11, 12]], dtype=int32)"
      ]
     },
     "execution_count": 9,
     "metadata": {},
     "output_type": "execute_result"
    }
   ],
   "source": [
    "rs = tf.concat(1, [t1, t2])\n",
    "sess.run(rs)"
   ]
  },
  {
   "cell_type": "code",
   "execution_count": 10,
   "metadata": {
    "collapsed": true
   },
   "outputs": [],
   "source": [
    "# TODO\n",
    "# https://www.tensorflow.org/versions/r0.8/api_docs/python/array_ops.html#depth_to_space\n",
    "# tf.depth_to_space(input, block_size, name=None)"
   ]
  },
  {
   "cell_type": "code",
   "execution_count": 16,
   "metadata": {
    "collapsed": false
   },
   "outputs": [
    {
     "name": "stdout",
     "output_type": "stream",
     "text": [
      "[[1 2 3]]\n",
      "[[1]\n",
      " [2]\n",
      " [3]]\n"
     ]
    }
   ],
   "source": [
    "# 't' is a tensor of shape [2]\n",
    "t = [1, 2, 3]\n",
    "print(sess.run(tf.expand_dims(t, 0)))\n",
    "print(sess.run(tf.expand_dims(t, 1)))"
   ]
  },
  {
   "cell_type": "code",
   "execution_count": 12,
   "metadata": {
    "collapsed": false
   },
   "outputs": [
    {
     "data": {
      "text/plain": [
       "array([[1],\n",
       "       [2],\n",
       "       [3]], dtype=int32)"
      ]
     },
     "execution_count": 12,
     "metadata": {},
     "output_type": "execute_result"
    }
   ],
   "source": [
    "rs = tf.expand_dims(t, 1)\n",
    "sess.run(rs)"
   ]
  },
  {
   "cell_type": "code",
   "execution_count": 13,
   "metadata": {
    "collapsed": false
   },
   "outputs": [
    {
     "data": {
      "text/plain": [
       "array([[1],\n",
       "       [2],\n",
       "       [3]], dtype=int32)"
      ]
     },
     "execution_count": 13,
     "metadata": {},
     "output_type": "execute_result"
    }
   ],
   "source": [
    "rs = tf.expand_dims(t, -1)\n",
    "sess.run(rs)"
   ]
  },
  {
   "cell_type": "code",
   "execution_count": 18,
   "metadata": {
    "collapsed": false
   },
   "outputs": [
    {
     "name": "stdout",
     "output_type": "stream",
     "text": [
      "[2 3 5]\n",
      "[1 2 3 5]\n",
      "[2 3 1 5]\n",
      "[2 3 5 1]\n",
      "[2 3 5 1]\n"
     ]
    }
   ],
   "source": [
    "# 't2' is a tensor of shape [2, 3, 5]\n",
    "t2 = np.indices((3,5))\n",
    "print(sess.run(tf.shape(t2)))\n",
    "rs = tf.shape(tf.expand_dims(t2, 0))\n",
    "print(sess.run(rs))\n",
    "rs = tf.shape(tf.expand_dims(t2, 2))\n",
    "print(sess.run(rs))\n",
    "rs = tf.shape(tf.expand_dims(t2, 3))\n",
    "print(sess.run(rs))\n",
    "rs = tf.shape(tf.expand_dims(t2, -1))\n",
    "print(sess.run(rs))"
   ]
  },
  {
   "cell_type": "code",
   "execution_count": 52,
   "metadata": {
    "collapsed": false
   },
   "outputs": [
    {
     "data": {
      "text/plain": [
       "array([2, 0, 2, 5, 9])"
      ]
     },
     "execution_count": 52,
     "metadata": {},
     "output_type": "execute_result"
    }
   ],
   "source": [
    "#https://www.tensorflow.org/versions/r0.8/api_docs/python/array_ops.html#gather\n",
    "data = np.arange(12)\n",
    "rs = tf.gather(data, [2,0,2,5,9])\n",
    "sess.run(rs)"
   ]
  },
  {
   "cell_type": "code",
   "execution_count": 53,
   "metadata": {
    "collapsed": false
   },
   "outputs": [
    {
     "data": {
      "text/plain": [
       "array([5, 9, 2], dtype=int32)"
      ]
     },
     "execution_count": 53,
     "metadata": {},
     "output_type": "execute_result"
    }
   ],
   "source": [
    "# https://www.tensorflow.org/versions/r0.8/api_docs/python/array_ops.html#gather_nd\n",
    "data = [[1,2,3],\n",
    "        [4,5,6],\n",
    "        [7,8,9]]\n",
    "rs = tf.gather_nd(data, [[1,1],[2,2],[0,1]])\n",
    "sess.run(rs)"
   ]
  },
  {
   "cell_type": "code",
   "execution_count": 55,
   "metadata": {
    "collapsed": false
   },
   "outputs": [
    {
     "data": {
      "text/plain": [
       "array([[ 1.,  0.,  0.,  0.,  0.],\n",
       "       [ 0.,  0.,  1.,  0.,  0.],\n",
       "       [ 0.,  0.,  0.,  0.,  0.],\n",
       "       [ 0.,  1.,  0.,  0.,  0.]], dtype=float32)"
      ]
     },
     "execution_count": 55,
     "metadata": {},
     "output_type": "execute_result"
    }
   ],
   "source": [
    "# https://www.tensorflow.org/versions/r0.8/api_docs/python/array_ops.html#one_hot\n",
    "indices = [0, 2, -1, 1]\n",
    "depth = 5\n",
    "on_value = 1.0\n",
    "off_value = 0.0\n",
    "axis = -1\n",
    "rs = tf.one_hot(indices, depth, on_value, off_value, axis)\n",
    "sess.run(rs)"
   ]
  },
  {
   "cell_type": "code",
   "execution_count": 58,
   "metadata": {
    "collapsed": false
   },
   "outputs": [
    {
     "name": "stdout",
     "output_type": "stream",
     "text": [
      "[1 2 3] [3]\n",
      "[1, 2, 3]\n"
     ]
    }
   ],
   "source": [
    "# https://www.tensorflow.org/versions/r0.8/api_docs/python/array_ops.html#pack\n",
    "rs = tf.pack([1,2,3])\n",
    "print(sess.run(rs), sess.run(tf.shape(rs)))\n",
    "rs = tf.unpack([1,2,3])\n",
    "print(sess.run(rs))"
   ]
  },
  {
   "cell_type": "code",
   "execution_count": 59,
   "metadata": {
    "collapsed": false
   },
   "outputs": [
    {
     "data": {
      "text/plain": [
       "array([[0, 0, 0, 0, 0, 0, 0, 0, 0, 0],\n",
       "       [0, 0, 0, 1, 2, 3, 0, 0, 0, 0],\n",
       "       [0, 0, 0, 4, 5, 6, 0, 0, 0, 0],\n",
       "       [0, 0, 0, 0, 0, 0, 0, 0, 0, 0],\n",
       "       [0, 0, 0, 0, 0, 0, 0, 0, 0, 0]], dtype=int32)"
      ]
     },
     "execution_count": 59,
     "metadata": {},
     "output_type": "execute_result"
    }
   ],
   "source": [
    "#https://www.tensorflow.org/versions/r0.8/api_docs/python/array_ops.html#pad\n",
    "t = [[1, 2, 3], [4, 5, 6]]\n",
    "paddings = [[1, 2,], [3, 4]]\n",
    "sess.run(tf.pad(t, paddings, \"CONSTANT\"))"
   ]
  },
  {
   "cell_type": "code",
   "execution_count": 60,
   "metadata": {
    "collapsed": false
   },
   "outputs": [
    {
     "data": {
      "text/plain": [
       "array([[6, 5, 4, 5, 6, 5, 4],\n",
       "       [3, 2, 1, 2, 3, 2, 1],\n",
       "       [6, 5, 4, 5, 6, 5, 4],\n",
       "       [3, 2, 1, 2, 3, 2, 1]], dtype=int32)"
      ]
     },
     "execution_count": 60,
     "metadata": {},
     "output_type": "execute_result"
    }
   ],
   "source": [
    "paddings = [[1, 1,], [2, 2]]\n",
    "sess.run(tf.pad(t, paddings, \"REFLECT\"))"
   ]
  },
  {
   "cell_type": "code",
   "execution_count": 61,
   "metadata": {
    "collapsed": false
   },
   "outputs": [
    {
     "data": {
      "text/plain": [
       "array([[2, 1, 1, 2, 3, 3, 2],\n",
       "       [2, 1, 1, 2, 3, 3, 2],\n",
       "       [5, 4, 4, 5, 6, 6, 5],\n",
       "       [5, 4, 4, 5, 6, 6, 5]], dtype=int32)"
      ]
     },
     "execution_count": 61,
     "metadata": {},
     "output_type": "execute_result"
    }
   ],
   "source": [
    "sess.run(tf.pad(t, paddings, \"SYMMETRIC\"))"
   ]
  },
  {
   "cell_type": "code",
   "execution_count": 63,
   "metadata": {
    "collapsed": false
   },
   "outputs": [
    {
     "name": "stdout",
     "output_type": "stream",
     "text": [
      "[2 2 3]\n",
      "3\n"
     ]
    }
   ],
   "source": [
    "# https://www.tensorflow.org/versions/r0.8/api_docs/python/array_ops.html#rank\n",
    "t = [[[1, 1, 1], [2, 2, 2]], [[3, 3, 3], [4, 4, 4]]]\n",
    "print(sess.run(tf.shape(t)))\n",
    "print(sess.run(tf.rank(t)))"
   ]
  },
  {
   "cell_type": "code",
   "execution_count": 64,
   "metadata": {
    "collapsed": false
   },
   "outputs": [
    {
     "data": {
      "text/plain": [
       "array([[1, 2, 3],\n",
       "       [4, 5, 6],\n",
       "       [7, 8, 9]], dtype=int32)"
      ]
     },
     "execution_count": 64,
     "metadata": {},
     "output_type": "execute_result"
    }
   ],
   "source": [
    "t = [1, 2, 3, 4, 5, 6, 7, 8, 9]\n",
    "sess.run(tf.reshape(t, [3, 3]))"
   ]
  },
  {
   "cell_type": "code",
   "execution_count": 65,
   "metadata": {
    "collapsed": false
   },
   "outputs": [
    {
     "data": {
      "text/plain": [
       "array([[1, 1, 2, 2],\n",
       "       [3, 3, 4, 4]], dtype=int32)"
      ]
     },
     "execution_count": 65,
     "metadata": {},
     "output_type": "execute_result"
    }
   ],
   "source": [
    "t = [[[1, 1], [2, 2]],\n",
    "    [[3, 3], [4, 4]]]\n",
    "sess.run(tf.reshape(t, [2, 4]))"
   ]
  },
  {
   "cell_type": "code",
   "execution_count": 66,
   "metadata": {
    "collapsed": false
   },
   "outputs": [
    {
     "data": {
      "text/plain": [
       "array([1, 1, 1, 2, 2, 2, 3, 3, 3, 4, 4, 4, 5, 5, 5, 6, 6, 6], dtype=int32)"
      ]
     },
     "execution_count": 66,
     "metadata": {},
     "output_type": "execute_result"
    }
   ],
   "source": [
    "t = [[[1, 1, 1],\n",
    "[2, 2, 2]],\n",
    "[[3, 3, 3],\n",
    "[4, 4, 4]],\n",
    "[[5, 5, 5],\n",
    "[6, 6, 6]]]\n",
    "\n",
    "sess.run(tf.reshape(t, [-1]))"
   ]
  },
  {
   "cell_type": "code",
   "execution_count": 67,
   "metadata": {
    "collapsed": false
   },
   "outputs": [
    {
     "data": {
      "text/plain": [
       "array([[1, 1, 1, 2, 2, 2, 3, 3, 3],\n",
       "       [4, 4, 4, 5, 5, 5, 6, 6, 6]], dtype=int32)"
      ]
     },
     "execution_count": 67,
     "metadata": {},
     "output_type": "execute_result"
    }
   ],
   "source": [
    "sess.run(tf.reshape(t, [2, -1]))"
   ]
  },
  {
   "cell_type": "code",
   "execution_count": 68,
   "metadata": {
    "collapsed": false,
    "scrolled": true
   },
   "outputs": [
    {
     "data": {
      "text/plain": [
       "array([[1, 1, 1, 2, 2, 2, 3, 3, 3],\n",
       "       [4, 4, 4, 5, 5, 5, 6, 6, 6]], dtype=int32)"
      ]
     },
     "execution_count": 68,
     "metadata": {},
     "output_type": "execute_result"
    }
   ],
   "source": [
    "sess.run(tf.reshape(t, [-1, 9]))"
   ]
  },
  {
   "cell_type": "code",
   "execution_count": 69,
   "metadata": {
    "collapsed": false
   },
   "outputs": [
    {
     "data": {
      "text/plain": [
       "array([2, 3, 3], dtype=int32)"
      ]
     },
     "execution_count": 69,
     "metadata": {},
     "output_type": "execute_result"
    }
   ],
   "source": [
    "sess.run(tf.shape(tf.reshape(t, [ 2, -1, 3])))"
   ]
  },
  {
   "cell_type": "code",
   "execution_count": 70,
   "metadata": {
    "collapsed": false
   },
   "outputs": [
    {
     "data": {
      "text/plain": [
       "7"
      ]
     },
     "execution_count": 70,
     "metadata": {},
     "output_type": "execute_result"
    }
   ],
   "source": [
    "sess.run(tf.reshape([7], []))"
   ]
  },
  {
   "cell_type": "code",
   "execution_count": 71,
   "metadata": {
    "collapsed": false
   },
   "outputs": [
    {
     "data": {
      "text/plain": [
       "array([[[[ 0,  1,  2,  3],\n",
       "         [ 4,  5,  6,  7],\n",
       "         [ 8,  9, 10, 11]],\n",
       "\n",
       "        [[12, 13, 14, 15],\n",
       "         [16, 17, 18, 19],\n",
       "         [20, 21, 22, 23]]]], dtype=int32)"
      ]
     },
     "execution_count": 71,
     "metadata": {},
     "output_type": "execute_result"
    }
   ],
   "source": [
    "# https://www.tensorflow.org/versions/r0.8/api_docs/python/array_ops.html#reverse\n",
    "t = [[[[ 0,  1,  2,  3],\n",
    "         [ 4,  5,  6,  7],\n",
    "         [ 8,  9, 10, 11]],\n",
    "        [[12, 13, 14, 15],\n",
    "         [16, 17, 18, 19],\n",
    "         [20, 21, 22, 23]]]]\n",
    "\n",
    "sess.run(tf.reverse(t, [False,False,False,False]))"
   ]
  },
  {
   "cell_type": "code",
   "execution_count": 72,
   "metadata": {
    "collapsed": false
   },
   "outputs": [
    {
     "data": {
      "text/plain": [
       "array([[[[ 3,  2,  1,  0],\n",
       "         [ 7,  6,  5,  4],\n",
       "         [11, 10,  9,  8]],\n",
       "\n",
       "        [[15, 14, 13, 12],\n",
       "         [19, 18, 17, 16],\n",
       "         [23, 22, 21, 20]]]], dtype=int32)"
      ]
     },
     "execution_count": 72,
     "metadata": {},
     "output_type": "execute_result"
    }
   ],
   "source": [
    "sess.run(tf.reverse(t, [False,False,False,True]))"
   ]
  },
  {
   "cell_type": "code",
   "execution_count": 73,
   "metadata": {
    "collapsed": false
   },
   "outputs": [
    {
     "data": {
      "text/plain": [
       "array([[[[15, 14, 13, 12],\n",
       "         [19, 18, 17, 16],\n",
       "         [23, 22, 21, 20]],\n",
       "\n",
       "        [[ 3,  2,  1,  0],\n",
       "         [ 7,  6,  5,  4],\n",
       "         [11, 10,  9,  8]]]], dtype=int32)"
      ]
     },
     "execution_count": 73,
     "metadata": {},
     "output_type": "execute_result"
    }
   ],
   "source": [
    "sess.run(tf.reverse(t, [False,True,False,True]))"
   ]
  },
  {
   "cell_type": "code",
   "execution_count": 74,
   "metadata": {
    "collapsed": false
   },
   "outputs": [
    {
     "data": {
      "text/plain": [
       "array([[[[ 8,  9, 10, 11],\n",
       "         [ 4,  5,  6,  7],\n",
       "         [ 0,  1,  2,  3]],\n",
       "\n",
       "        [[20, 21, 22, 23],\n",
       "         [16, 17, 18, 19],\n",
       "         [12, 13, 14, 15]]]], dtype=int32)"
      ]
     },
     "execution_count": 74,
     "metadata": {},
     "output_type": "execute_result"
    }
   ],
   "source": [
    "sess.run(tf.reverse(t, [False,False,True,False]))"
   ]
  },
  {
   "cell_type": "code",
   "execution_count": 75,
   "metadata": {
    "collapsed": true
   },
   "outputs": [],
   "source": [
    "# TODO\n",
    "# https://www.tensorflow.org/versions/r0.8/api_docs/python/array_ops.html#reverse_sequence"
   ]
  },
  {
   "cell_type": "code",
   "execution_count": 76,
   "metadata": {
    "collapsed": false
   },
   "outputs": [
    {
     "data": {
      "text/plain": [
       "array([[[[  0.,   1.,   2.,   3.],\n",
       "         [  4.,   5.,   6.,   7.],\n",
       "         [  8.,   9.,  10.,  11.]],\n",
       "\n",
       "        [[ 12.,  13.,  14.,  15.],\n",
       "         [ 16.,  17.,  18.,  19.],\n",
       "         [ 20.,  21.,  22.,  23.]]]], dtype=float32)"
      ]
     },
     "execution_count": 76,
     "metadata": {},
     "output_type": "execute_result"
    }
   ],
   "source": [
    "# https://www.tensorflow.org/versions/r0.8/api_docs/python/array_ops.html#reverse_sequence\n",
    "sess.run(tf.saturate_cast(t, tf.float32))"
   ]
  },
  {
   "cell_type": "code",
   "execution_count": 77,
   "metadata": {
    "collapsed": false
   },
   "outputs": [
    {
     "data": {
      "text/plain": [
       "array([1, 2, 3, 4], dtype=int32)"
      ]
     },
     "execution_count": 77,
     "metadata": {},
     "output_type": "execute_result"
    }
   ],
   "source": [
    "# https://www.tensorflow.org/versions/r0.8/api_docs/python/array_ops.html#shape\n",
    "sess.run(tf.shape(t))"
   ]
  },
  {
   "cell_type": "code",
   "execution_count": 78,
   "metadata": {
    "collapsed": false
   },
   "outputs": [
    {
     "data": {
      "text/plain": [
       "[array([2, 3, 4], dtype=int32)]"
      ]
     },
     "execution_count": 78,
     "metadata": {},
     "output_type": "execute_result"
    }
   ],
   "source": [
    "# https://www.tensorflow.org/versions/r0.8/api_docs/python/array_ops.html#shape_n\n",
    "sess.run(tf.shape_n(t))"
   ]
  },
  {
   "cell_type": "code",
   "execution_count": 79,
   "metadata": {
    "collapsed": false
   },
   "outputs": [
    {
     "data": {
      "text/plain": [
       "24"
      ]
     },
     "execution_count": 79,
     "metadata": {},
     "output_type": "execute_result"
    }
   ],
   "source": [
    "# https://www.tensorflow.org/versions/r0.8/api_docs/python/array_ops.html#size\n",
    "sess.run(tf.size(t))"
   ]
  },
  {
   "cell_type": "code",
   "execution_count": 80,
   "metadata": {
    "collapsed": false
   },
   "outputs": [
    {
     "data": {
      "text/plain": [
       "array([[[3, 3, 3]]], dtype=int32)"
      ]
     },
     "execution_count": 80,
     "metadata": {},
     "output_type": "execute_result"
    }
   ],
   "source": [
    "# https://www.tensorflow.org/versions/r0.8/api_docs/python/array_ops.html#slice\n",
    "input = [[[1, 1, 1], [2, 2, 2]],\n",
    "             [[3, 3, 3], [4, 4, 4]],\n",
    "             [[5, 5, 5], [6, 6, 6]]]\n",
    "sess.run(tf.slice(input, [1, 0, 0], [1, 1, 3]))"
   ]
  },
  {
   "cell_type": "code",
   "execution_count": 81,
   "metadata": {
    "collapsed": false
   },
   "outputs": [
    {
     "data": {
      "text/plain": [
       "array([[[3, 3, 3],\n",
       "        [4, 4, 4]]], dtype=int32)"
      ]
     },
     "execution_count": 81,
     "metadata": {},
     "output_type": "execute_result"
    }
   ],
   "source": [
    "sess.run(tf.slice(input, [1, 0, 0], [1, 2, 3]))"
   ]
  },
  {
   "cell_type": "code",
   "execution_count": 82,
   "metadata": {
    "collapsed": false
   },
   "outputs": [
    {
     "data": {
      "text/plain": [
       "array([[[1, 1, 1],\n",
       "        [2, 2, 2]]], dtype=int32)"
      ]
     },
     "execution_count": 82,
     "metadata": {},
     "output_type": "execute_result"
    }
   ],
   "source": [
    "sess.run(tf.slice(input, [0, 0, 0], [1, 2, 3]))"
   ]
  },
  {
   "cell_type": "code",
   "execution_count": 83,
   "metadata": {
    "collapsed": false
   },
   "outputs": [
    {
     "data": {
      "text/plain": [
       "array([[[[1, 2, 3, 4]]]], dtype=int32)"
      ]
     },
     "execution_count": 83,
     "metadata": {},
     "output_type": "execute_result"
    }
   ],
   "source": [
    "# https://www.tensorflow.org/versions/r0.8/api_docs/python/array_ops.html#space_to_depth\n",
    "x = [[[[1], [2]],\n",
    "      [[3], [4]]]]\n",
    "sess.run(tf.space_to_depth(x, 2))"
   ]
  },
  {
   "cell_type": "code",
   "execution_count": 84,
   "metadata": {
    "collapsed": false
   },
   "outputs": [
    {
     "data": {
      "text/plain": [
       "array([[[[ 1,  2,  3,  4,  5,  6,  7,  8,  9, 10, 11, 12]]]], dtype=int32)"
      ]
     },
     "execution_count": 84,
     "metadata": {},
     "output_type": "execute_result"
    }
   ],
   "source": [
    "x = [[[[1, 2, 3], [4, 5, 6]],\n",
    "      [[7, 8, 9], [10, 11, 12]]]]\n",
    "sess.run(tf.space_to_depth(x, 2))"
   ]
  },
  {
   "cell_type": "code",
   "execution_count": 86,
   "metadata": {
    "collapsed": false
   },
   "outputs": [
    {
     "data": {
      "text/plain": [
       "array([4, 4, 1], dtype=int32)"
      ]
     },
     "execution_count": 86,
     "metadata": {},
     "output_type": "execute_result"
    }
   ],
   "source": [
    "x = [[[1],   [2],  [3],  [4]],\n",
    "     [[5],   [6],  [7],  [8]],\n",
    "     [[9],  [10], [11],  [12]],\n",
    "     [[13], [14], [15],  [16]]]\n",
    "sess.run(tf.shape(x))"
   ]
  },
  {
   "cell_type": "code",
   "execution_count": 92,
   "metadata": {
    "collapsed": false
   },
   "outputs": [
    {
     "name": "stdout",
     "output_type": "stream",
     "text": [
      "[1 4 4 1]\n",
      "[[[[ 1  2  5  6]\n",
      "   [ 3  4  7  8]]\n",
      "\n",
      "  [[ 9 10 13 14]\n",
      "   [11 12 15 16]]]]\n"
     ]
    },
    {
     "data": {
      "text/plain": [
       "array([1, 2, 2, 4], dtype=int32)"
      ]
     },
     "execution_count": 92,
     "metadata": {},
     "output_type": "execute_result"
    }
   ],
   "source": [
    "x = [[[[1],   [2],  [3],  [4]],\n",
    "      [[5],   [6],  [7],  [8]],\n",
    "      [[9],  [10], [11],  [12]],\n",
    "      [[13], [14], [15],  [16]]]]\n",
    "print(sess.run(tf.shape(x)))\n",
    "x2 = sess.run(tf.space_to_depth(x, 2))\n",
    "print(x2)\n",
    "sess.run(tf.shape(x2))"
   ]
  },
  {
   "cell_type": "code",
   "execution_count": 93,
   "metadata": {
    "collapsed": false
   },
   "outputs": [
    {
     "name": "stdout",
     "output_type": "stream",
     "text": [
      "[ 5  3 10]\n",
      "[array([[[  0,   1,   2,   3,   4],\n",
      "        [ 10,  11,  12,  13,  14],\n",
      "        [ 20,  21,  22,  23,  24]],\n",
      "\n",
      "       [[ 30,  31,  32,  33,  34],\n",
      "        [ 40,  41,  42,  43,  44],\n",
      "        [ 50,  51,  52,  53,  54]],\n",
      "\n",
      "       [[ 60,  61,  62,  63,  64],\n",
      "        [ 70,  71,  72,  73,  74],\n",
      "        [ 80,  81,  82,  83,  84]],\n",
      "\n",
      "       [[ 90,  91,  92,  93,  94],\n",
      "        [100, 101, 102, 103, 104],\n",
      "        [110, 111, 112, 113, 114]],\n",
      "\n",
      "       [[120, 121, 122, 123, 124],\n",
      "        [130, 131, 132, 133, 134],\n",
      "        [140, 141, 142, 143, 144]]]), array([[[  5,   6,   7,   8,   9],\n",
      "        [ 15,  16,  17,  18,  19],\n",
      "        [ 25,  26,  27,  28,  29]],\n",
      "\n",
      "       [[ 35,  36,  37,  38,  39],\n",
      "        [ 45,  46,  47,  48,  49],\n",
      "        [ 55,  56,  57,  58,  59]],\n",
      "\n",
      "       [[ 65,  66,  67,  68,  69],\n",
      "        [ 75,  76,  77,  78,  79],\n",
      "        [ 85,  86,  87,  88,  89]],\n",
      "\n",
      "       [[ 95,  96,  97,  98,  99],\n",
      "        [105, 106, 107, 108, 109],\n",
      "        [115, 116, 117, 118, 119]],\n",
      "\n",
      "       [[125, 126, 127, 128, 129],\n",
      "        [135, 136, 137, 138, 139],\n",
      "        [145, 146, 147, 148, 149]]])]\n"
     ]
    }
   ],
   "source": [
    "# https://www.tensorflow.org/versions/r0.8/api_docs/python/array_ops.html#split\n",
    "x = np.arange(150).reshape((5, 3, 10))\n",
    "print(sess.run(tf.shape(x)))\n",
    "print(sess.run(tf.split(2, 2, x)))"
   ]
  },
  {
   "cell_type": "code",
   "execution_count": 94,
   "metadata": {
    "collapsed": false
   },
   "outputs": [
    {
     "name": "stdout",
     "output_type": "stream",
     "text": [
      "[[0 1 2]\n",
      " [3 4 5]]\n",
      "[2 3]\n"
     ]
    }
   ],
   "source": [
    "# https://www.tensorflow.org/versions/r0.8/api_docs/python/array_ops.html#squeeze\n",
    "t = np.arange(6).reshape((1, 2, 1, 3, 1, 1))\n",
    "\n",
    "print(sess.run(tf.squeeze(t)))\n",
    "print(sess.run(tf.shape(tf.squeeze(t))))"
   ]
  },
  {
   "cell_type": "code",
   "execution_count": 90,
   "metadata": {
    "collapsed": false
   },
   "outputs": [
    {
     "ename": "SyntaxError",
     "evalue": "Missing parentheses in call to 'print' (<ipython-input-90-6888d51cbeed>, line 2)",
     "output_type": "error",
     "traceback": [
      "\u001b[0;36m  File \u001b[0;32m\"<ipython-input-90-6888d51cbeed>\"\u001b[0;36m, line \u001b[0;32m2\u001b[0m\n\u001b[0;31m    print \"t\", t\u001b[0m\n\u001b[0m            ^\u001b[0m\n\u001b[0;31mSyntaxError\u001b[0m\u001b[0;31m:\u001b[0m Missing parentheses in call to 'print'\n"
     ]
    }
   ],
   "source": [
    "t = np.arange(6).reshape((1, 2, 1, 3, 1, 1))\n",
    "print(\"t\", t\n",
    "print \"sq\", sess.run(tf.squeeze(t, [2, 4]))\n",
    "print \"shape\", sess.run(tf.shape(tf.squeeze(t, [2, -1])))"
   ]
  },
  {
   "cell_type": "code",
   "execution_count": 91,
   "metadata": {
    "collapsed": true
   },
   "outputs": [],
   "source": [
    "# https://www.tensorflow.org/versions/r0.8/api_docs/python/array_ops.html#string_to_number\n",
    "# TODO"
   ]
  },
  {
   "cell_type": "code",
   "execution_count": 19,
   "metadata": {
    "collapsed": false
   },
   "outputs": [
    {
     "data": {
      "text/plain": [
       "array([1, 2, 3, 4, 1, 2, 3, 4], dtype=int32)"
      ]
     },
     "execution_count": 19,
     "metadata": {},
     "output_type": "execute_result"
    }
   ],
   "source": [
    "# https://www.tensorflow.org/versions/r0.8/api_docs/python/array_ops.html#tile\n",
    "t = [1, 2, 3, 4]\n",
    "sess.run(tf.tile(t, [2]))"
   ]
  },
  {
   "cell_type": "markdown",
   "metadata": {},
   "source": [
    "```\n",
    "y = torch.expand(x,10,2)\n",
    "> y\n",
    " 0.3837  0.3837\n",
    " 0.5966  0.5966\n",
    " 0.0763  0.0763\n",
    " 0.1896  0.1896\n",
    " 0.4958  0.4958\n",
    " 0.6841  0.6841\n",
    " 0.4038  0.4038\n",
    " 0.4068  0.4068\n",
    " 0.1502  0.1502\n",
    " 0.2239  0.2239\n",
    "[torch.DoubleTensor of dimension 10x2]\n",
    "```"
   ]
  },
  {
   "cell_type": "code",
   "execution_count": 51,
   "metadata": {
    "collapsed": false
   },
   "outputs": [
    {
     "name": "stdout",
     "output_type": "stream",
     "text": [
      "t1= [[ 0]\n",
      " [ 1]\n",
      " [ 2]\n",
      " [ 3]\n",
      " [ 4]\n",
      " [ 5]\n",
      " [ 6]\n",
      " [ 7]\n",
      " [ 8]\n",
      " [ 9]\n",
      " [10]\n",
      " [11]] t2= [[ 0  0]\n",
      " [ 1  1]\n",
      " [ 2  2]\n",
      " [ 3  3]\n",
      " [ 4  4]\n",
      " [ 5  5]\n",
      " [ 6  6]\n",
      " [ 7  7]\n",
      " [ 8  8]\n",
      " [ 9  9]\n",
      " [10 10]\n",
      " [11 11]]\n"
     ]
    }
   ],
   "source": [
    "t = np.arange(12).reshape(-1,1)\n",
    "t2 = sess.run(tf.tile(t, [1,2]))\n",
    "print (\"t1=\",t, \"t2=\", t2)"
   ]
  },
  {
   "cell_type": "code",
   "execution_count": 31,
   "metadata": {
    "collapsed": false
   },
   "outputs": [
    {
     "data": {
      "text/plain": [
       "array([[1, 2, 1, 2],\n",
       "       [3, 4, 3, 4],\n",
       "       [1, 2, 1, 2],\n",
       "       [3, 4, 3, 4]], dtype=int32)"
      ]
     },
     "execution_count": 31,
     "metadata": {},
     "output_type": "execute_result"
    }
   ],
   "source": [
    "t = [[1, 2], [3, 4]]\n",
    "sess.run(tf.tile(t, [2,2]))"
   ]
  },
  {
   "cell_type": "code",
   "execution_count": 96,
   "metadata": {
    "collapsed": false
   },
   "outputs": [
    {
     "name": "stdout",
     "output_type": "stream",
     "text": [
      "[1 2 4 7 8] [0 0 1 2 2 2 3 4 4] [2 1 3 1 2]\n"
     ]
    }
   ],
   "source": [
    "# https://www.tensorflow.org/versions/r0.8/api_docs/python/array_ops.html#unique_with_counts\n",
    "# good for dic\n",
    "x = [1, 1, 2, 4, 4, 4, 7, 8, 8]\n",
    "y, idx, count = sess.run(tf.unique_with_counts(x))\n",
    "print(y, idx, count)"
   ]
  }
 ],
 "metadata": {
  "kernelspec": {
   "display_name": "Python 3",
   "language": "python",
   "name": "python3"
  },
  "language_info": {
   "codemirror_mode": {
    "name": "ipython",
    "version": 3
   },
   "file_extension": ".py",
   "mimetype": "text/x-python",
   "name": "python",
   "nbconvert_exporter": "python",
   "pygments_lexer": "ipython3",
   "version": "3.5.1"
  }
 },
 "nbformat": 4,
 "nbformat_minor": 0
}
